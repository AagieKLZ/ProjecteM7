{
 "cells": [
  {
   "cell_type": "code",
   "execution_count": null,
   "metadata": {},
   "outputs": [],
   "source": [
    "import pandas as pd"
   ]
  },
  {
   "cell_type": "code",
   "execution_count": null,
   "metadata": {},
   "outputs": [],
   "source": [
    "# Poner las estaciones en array y en orden\n",
    "estaciones = ['L’Hospitalet de Llobregat', 'Barcelona - Sants', 'Barcelona - Pl. Catalunya', 'Barcelona - Arc de Triomf', 'Barcelona - El Clot Aragó', 'St. Adrià de Besòs', 'Badalona', 'Montgat', 'Montgat Nord', 'El Masnou', 'Premià de Mar', 'Vilassar de Mar', 'Cabrera de Mar - Vilassar de Mar', 'Mataró', 'St. Andreu de Llavaneres', 'Caldes d’Estrac', 'Arenys de Mar', 'Canet de Mar', 'St. Pol de Mar', 'Calella', 'Pineda de mar', 'Santa Susanna', 'Malgrat de Mar', 'Blanes', 'Tordera', 'Maçanet Massanes']\n",
    "linea = \"R1\"\n",
    "reverse = True"
   ]
  },
  {
   "cell_type": "code",
   "execution_count": null,
   "metadata": {},
   "outputs": [],
   "source": [
    "if reverse:\n",
    "    estaciones.reverse()\n",
    "\n",
    "estaciones"
   ]
  },
  {
   "cell_type": "code",
   "execution_count": null,
   "metadata": {},
   "outputs": [],
   "source": [
    "# Preguntamos el id de viaje\n",
    "id_viaje = input(\"Introduce el id de viaje: \")"
   ]
  },
  {
   "cell_type": "code",
   "execution_count": null,
   "metadata": {},
   "outputs": [],
   "source": [
    "# Pregumtanos la hora a la que pasa por las estaciones, separadas por espacios\n",
    "horas = input(\"Introduce las horas de paso por las estaciones, separadas por espacios: \")\n",
    "horas = horas.split(\" \")\n",
    "\n",
    "# Quitamos los valores con – (no pasa por esa estación)\n",
    "horas = list(filter(lambda x: x != \"–\", [x for x in horas if x != \"-\"]))\n",
    "\n",
    "# Cambiamos todos los . por : en las horas\n",
    "horas = [x.replace(\".\", \":\") for x in horas]\n",
    "\n",
    "if reverse:\n",
    "    horas.reverse()"
   ]
  },
  {
   "cell_type": "code",
   "execution_count": null,
   "metadata": {},
   "outputs": [],
   "source": [
    "# Para cada hora creamos una fila en el diccionario\n",
    "diccionario = {}\n",
    "\n",
    "if reverse:\n",
    "    # Empezamos a asignar las estaciones por el final, de tal manera que la primera estación sea la última\n",
    "    for i in range(len(horas)):\n",
    "        diccionario[i] = [linea, estaciones[len(estaciones)-i-1], horas[i], id_viaje, len(horas)-i]\n",
    "else:\n",
    "    for i in range(len(horas)):\n",
    "        diccionario[i] = [linea, estaciones[i], horas[i], id_viaje, i+1]"
   ]
  },
  {
   "cell_type": "code",
   "execution_count": null,
   "metadata": {},
   "outputs": [],
   "source": [
    "# Creamos el dataframe\n",
    "df = pd.DataFrame.from_dict(diccionario, orient='index', columns=['linea', 'estacion', 'hora', 'id_viaje', 'orden'])\n",
    "\n",
    "df"
   ]
  },
  {
   "cell_type": "code",
   "execution_count": null,
   "metadata": {},
   "outputs": [],
   "source": [
    "# Copiamos el dataframe en el portapapeles\n",
    "df.to_clipboard(index=False, header=False)"
   ]
  }
 ],
 "metadata": {
  "kernelspec": {
   "display_name": "Python 3",
   "language": "python",
   "name": "python3"
  },
  "language_info": {
   "codemirror_mode": {
    "name": "ipython",
    "version": 3
   },
   "file_extension": ".py",
   "mimetype": "text/x-python",
   "name": "python",
   "nbconvert_exporter": "python",
   "pygments_lexer": "ipython3",
   "version": "3.11.2"
  },
  "orig_nbformat": 4
 },
 "nbformat": 4,
 "nbformat_minor": 2
}
