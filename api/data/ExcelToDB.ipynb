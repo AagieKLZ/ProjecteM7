{
 "cells": [
  {
   "cell_type": "code",
   "execution_count": 53,
   "metadata": {
    "ExecuteTime": {
     "start_time": "2023-05-12T09:06:23.193554Z",
     "end_time": "2023-05-12T09:06:23.219664Z"
    }
   },
   "outputs": [],
   "source": [
    "# Crear la conex amb la db MYSQL\n",
    "import mysql.connector\n",
    "\n",
    "db = mysql.connector.connect(\n",
    "    host=\"localhost\",\n",
    "    port=\"3306\",\n",
    "    username=\"root\",\n",
    "    password=\"123321\",\n",
    "    database=\"tenfe2\"\n",
    ")"
   ]
  },
  {
   "cell_type": "code",
   "execution_count": 54,
   "metadata": {
    "ExecuteTime": {
     "start_time": "2023-05-12T09:06:23.221055Z",
     "end_time": "2023-05-12T09:06:23.222572Z"
    }
   },
   "outputs": [],
   "source": [
    "colors = {\n",
    "    'R1': 'bg-cyan-600',\n",
    "    'R3': 'bg-red-600',\n",
    "    'R4': 'bg-orange-600',\n",
    "    'R11': 'bg-sky-600',\n",
    "    'R12': 'bg-yellow-300',\n",
    "}"
   ]
  },
  {
   "cell_type": "code",
   "execution_count": 55,
   "metadata": {
    "ExecuteTime": {
     "start_time": "2023-05-12T09:06:23.223250Z",
     "end_time": "2023-05-12T09:06:23.224485Z"
    }
   },
   "outputs": [],
   "source": [
    "import pandas as pd"
   ]
  },
  {
   "cell_type": "code",
   "execution_count": 56,
   "metadata": {
    "ExecuteTime": {
     "start_time": "2023-05-12T09:06:23.225739Z",
     "end_time": "2023-05-12T09:06:23.481802Z"
    }
   },
   "outputs": [],
   "source": [
    "# Llegim el excel i el guardem en un dataframe\n",
    "df = pd.read_excel('./Horaris.xlsx')"
   ]
  },
  {
   "cell_type": "code",
   "execution_count": 57,
   "metadata": {
    "ExecuteTime": {
     "start_time": "2023-05-12T09:06:23.484521Z",
     "end_time": "2023-05-12T09:06:23.485539Z"
    }
   },
   "outputs": [],
   "source": [
    "# Creem un cursor per poder fer les consultes\n",
    "cursor = db.cursor()"
   ]
  },
  {
   "cell_type": "code",
   "execution_count": 58,
   "metadata": {
    "ExecuteTime": {
     "start_time": "2023-05-12T09:06:23.489062Z",
     "end_time": "2023-05-12T09:06:23.490709Z"
    },
    "collapsed": false
   },
   "outputs": [
    {
     "data": {
      "text/plain": "      LINIA                  ID_PARADA      HORA  ID_VIAJE  ORDEN\n0        R1  L’Hospitalet de Llobregat  05:48:00         1      1\n1        R1            Barcelona Sants  05:55:00         1      2\n2        R1     Barcelona Pl.Catalunya  06:00:00         1      3\n3        R1    Barcelona Arc de Triomf  06:03:00         1      4\n4        R1    Barcelona El Clot Aragó  06:07:00         1      5\n...     ...                        ...       ...       ...    ...\n10503   R12        Castellnou de Seana  07:56:00       484      5\n10504   R12                     Golmés  07:59:00       484      6\n10505   R12                 Mollerussa  08:02:00       484      7\n10506   R12         Bell-lloc d’Urgell  08:09:00       484     10\n10507   R12            Lleida-Pirineus  08:21:00       484     11\n\n[10508 rows x 5 columns]",
      "text/html": "<div>\n<style scoped>\n    .dataframe tbody tr th:only-of-type {\n        vertical-align: middle;\n    }\n\n    .dataframe tbody tr th {\n        vertical-align: top;\n    }\n\n    .dataframe thead th {\n        text-align: right;\n    }\n</style>\n<table border=\"1\" class=\"dataframe\">\n  <thead>\n    <tr style=\"text-align: right;\">\n      <th></th>\n      <th>LINIA</th>\n      <th>ID_PARADA</th>\n      <th>HORA</th>\n      <th>ID_VIAJE</th>\n      <th>ORDEN</th>\n    </tr>\n  </thead>\n  <tbody>\n    <tr>\n      <th>0</th>\n      <td>R1</td>\n      <td>L’Hospitalet de Llobregat</td>\n      <td>05:48:00</td>\n      <td>1</td>\n      <td>1</td>\n    </tr>\n    <tr>\n      <th>1</th>\n      <td>R1</td>\n      <td>Barcelona Sants</td>\n      <td>05:55:00</td>\n      <td>1</td>\n      <td>2</td>\n    </tr>\n    <tr>\n      <th>2</th>\n      <td>R1</td>\n      <td>Barcelona Pl.Catalunya</td>\n      <td>06:00:00</td>\n      <td>1</td>\n      <td>3</td>\n    </tr>\n    <tr>\n      <th>3</th>\n      <td>R1</td>\n      <td>Barcelona Arc de Triomf</td>\n      <td>06:03:00</td>\n      <td>1</td>\n      <td>4</td>\n    </tr>\n    <tr>\n      <th>4</th>\n      <td>R1</td>\n      <td>Barcelona El Clot Aragó</td>\n      <td>06:07:00</td>\n      <td>1</td>\n      <td>5</td>\n    </tr>\n    <tr>\n      <th>...</th>\n      <td>...</td>\n      <td>...</td>\n      <td>...</td>\n      <td>...</td>\n      <td>...</td>\n    </tr>\n    <tr>\n      <th>10503</th>\n      <td>R12</td>\n      <td>Castellnou de Seana</td>\n      <td>07:56:00</td>\n      <td>484</td>\n      <td>5</td>\n    </tr>\n    <tr>\n      <th>10504</th>\n      <td>R12</td>\n      <td>Golmés</td>\n      <td>07:59:00</td>\n      <td>484</td>\n      <td>6</td>\n    </tr>\n    <tr>\n      <th>10505</th>\n      <td>R12</td>\n      <td>Mollerussa</td>\n      <td>08:02:00</td>\n      <td>484</td>\n      <td>7</td>\n    </tr>\n    <tr>\n      <th>10506</th>\n      <td>R12</td>\n      <td>Bell-lloc d’Urgell</td>\n      <td>08:09:00</td>\n      <td>484</td>\n      <td>10</td>\n    </tr>\n    <tr>\n      <th>10507</th>\n      <td>R12</td>\n      <td>Lleida-Pirineus</td>\n      <td>08:21:00</td>\n      <td>484</td>\n      <td>11</td>\n    </tr>\n  </tbody>\n</table>\n<p>10508 rows × 5 columns</p>\n</div>"
     },
     "execution_count": 58,
     "metadata": {},
     "output_type": "execute_result"
    }
   ],
   "source": [
    "df"
   ]
  },
  {
   "cell_type": "code",
   "execution_count": 59,
   "metadata": {
    "collapsed": false,
    "ExecuteTime": {
     "start_time": "2023-05-12T09:06:23.492098Z",
     "end_time": "2023-05-12T09:06:23.540046Z"
    }
   },
   "outputs": [],
   "source": [
    "# Agafem tots els valors unics de LINIA\n",
    "linies = df['LINIA'].unique()\n",
    "# Les afegim a la db\n",
    "for linia in linies:\n",
    "    sql = \"SELECT * FROM tenfe2.routes WHERE name = %s\"\n",
    "    cursor.execute(sql, (linia,))\n",
    "    result = cursor.fetchall()\n",
    "\n",
    "    if not result:\n",
    "        sql = \"INSERT INTO tenfe2.routes (name,colour) VALUES (%s,%s)\"\n",
    "        cursor.execute(sql, (linia, colors[linia]))\n",
    "        db.commit()"
   ]
  },
  {
   "cell_type": "code",
   "execution_count": 60,
   "metadata": {
    "ExecuteTime": {
     "start_time": "2023-05-12T09:06:23.517433Z",
     "end_time": "2023-05-12T09:06:23.592307Z"
    }
   },
   "outputs": [],
   "source": [
    "# Agafem tots els valors unics de ID_PARADA\n",
    "estacions = df['ID_PARADA'].unique()\n",
    "# Les afegim a la db\n",
    "for es in estacions:\n",
    "    sql = \"SELECT * FROM tenfe2.stations WHERE name = %s\"\n",
    "    cursor.execute(sql, (es,))\n",
    "    result = cursor.fetchall()\n",
    "\n",
    "    if not result:\n",
    "        sql = \"INSERT INTO tenfe2.stations (name) VALUES (%s)\"\n",
    "        cursor.execute(sql, (es,))\n",
    "        db.commit()"
   ]
  },
  {
   "cell_type": "code",
   "execution_count": 61,
   "outputs": [],
   "source": [
    "# Canviem el format de HORA  de 08:00:00 a 08:00\n",
    "df['HORA'] = df['HORA'].apply(lambda x: x.strftime('%H:%M'))"
   ],
   "metadata": {
    "collapsed": false,
    "ExecuteTime": {
     "start_time": "2023-05-12T09:06:23.582400Z",
     "end_time": "2023-05-12T09:06:23.592753Z"
    }
   }
  },
  {
   "cell_type": "code",
   "execution_count": 62,
   "outputs": [],
   "source": [
    "# Inserim a la db els schedules i route_trains\n",
    "for row in df.itertuples():\n",
    "    sql = \"SELECT * FROM tenfe2.schedules WHERE train_num = %s AND stop_number = %s\"\n",
    "    cursor.execute(sql, (row.ID_VIAJE, row.ORDEN))\n",
    "    result = cursor.fetchall()\n",
    "\n",
    "    if not result:\n",
    "        sql = \"INSERT INTO tenfe2.schedules (station_id, time, train_num, stop_number) VALUES (%s,%s,%s,%s)\"\n",
    "\n",
    "        stId = None\n",
    "        sql2 = \"SELECT id FROM tenfe2.stations WHERE name = %s\"\n",
    "        cursor.execute(sql2, (row.ID_PARADA,))\n",
    "        result = cursor.fetchall()\n",
    "        if result:\n",
    "            stId = result[0][0]\n",
    "            cursor.execute(sql, (stId, row.HORA, row.ID_VIAJE, row.ORDEN))\n",
    "            db.commit()"
   ],
   "metadata": {
    "collapsed": false,
    "ExecuteTime": {
     "start_time": "2023-05-12T09:06:23.586403Z",
     "end_time": "2023-05-12T09:06:27.162652Z"
    }
   }
  },
  {
   "cell_type": "code",
   "execution_count": 63,
   "outputs": [
    {
     "data": {
      "text/plain": "      LINIA  ID_VIAJE\n0        R1         1\n26       R1         2\n43       R1         3\n60       R1         4\n86       R1         5\n...     ...       ...\n10388   R12       479\n10422   R12       480\n10456   R12       481\n10490   R12       482\n10499   R12       484\n\n[479 rows x 2 columns]",
      "text/html": "<div>\n<style scoped>\n    .dataframe tbody tr th:only-of-type {\n        vertical-align: middle;\n    }\n\n    .dataframe tbody tr th {\n        vertical-align: top;\n    }\n\n    .dataframe thead th {\n        text-align: right;\n    }\n</style>\n<table border=\"1\" class=\"dataframe\">\n  <thead>\n    <tr style=\"text-align: right;\">\n      <th></th>\n      <th>LINIA</th>\n      <th>ID_VIAJE</th>\n    </tr>\n  </thead>\n  <tbody>\n    <tr>\n      <th>0</th>\n      <td>R1</td>\n      <td>1</td>\n    </tr>\n    <tr>\n      <th>26</th>\n      <td>R1</td>\n      <td>2</td>\n    </tr>\n    <tr>\n      <th>43</th>\n      <td>R1</td>\n      <td>3</td>\n    </tr>\n    <tr>\n      <th>60</th>\n      <td>R1</td>\n      <td>4</td>\n    </tr>\n    <tr>\n      <th>86</th>\n      <td>R1</td>\n      <td>5</td>\n    </tr>\n    <tr>\n      <th>...</th>\n      <td>...</td>\n      <td>...</td>\n    </tr>\n    <tr>\n      <th>10388</th>\n      <td>R12</td>\n      <td>479</td>\n    </tr>\n    <tr>\n      <th>10422</th>\n      <td>R12</td>\n      <td>480</td>\n    </tr>\n    <tr>\n      <th>10456</th>\n      <td>R12</td>\n      <td>481</td>\n    </tr>\n    <tr>\n      <th>10490</th>\n      <td>R12</td>\n      <td>482</td>\n    </tr>\n    <tr>\n      <th>10499</th>\n      <td>R12</td>\n      <td>484</td>\n    </tr>\n  </tbody>\n</table>\n<p>479 rows × 2 columns</p>\n</div>"
     },
     "execution_count": 63,
     "metadata": {},
     "output_type": "execute_result"
    }
   ],
   "source": [
    "# Creem un df amb tots els valors unics de ID_VIAJE i ORDEN\n",
    "df2 = df[['LINIA','ID_VIAJE']].drop_duplicates()\n",
    "\n",
    "df2"
   ],
   "metadata": {
    "collapsed": false,
    "ExecuteTime": {
     "start_time": "2023-05-12T09:06:27.162755Z",
     "end_time": "2023-05-12T09:06:27.173350Z"
    }
   }
  },
  {
   "cell_type": "code",
   "execution_count": 64,
   "outputs": [],
   "source": [
    "# Inserim a la db els route_trains\n",
    "for row in df2.itertuples():\n",
    "    sql = \"SELECT * FROM tenfe2.route_trains WHERE route_id = %s AND train_num = %s\"\n",
    "    cursor.execute(sql, (row.LINIA, row.ID_VIAJE))\n",
    "    result = cursor.fetchall()\n",
    "\n",
    "    if not result:\n",
    "        sql = \"INSERT INTO tenfe2.route_trains (route_id, train_num) VALUES (%s,%s)\"\n",
    "\n",
    "        cursor.execute(sql, (row.LINIA, row.ID_VIAJE))\n",
    "        db.commit()\n"
   ],
   "metadata": {
    "collapsed": false,
    "ExecuteTime": {
     "start_time": "2023-05-12T09:06:27.174799Z",
     "end_time": "2023-05-12T09:06:27.367964Z"
    }
   }
  }
 ],
 "metadata": {
  "kernelspec": {
   "display_name": "Python 3",
   "language": "python",
   "name": "python3"
  },
  "language_info": {
   "codemirror_mode": {
    "name": "ipython",
    "version": 3
   },
   "file_extension": ".py",
   "mimetype": "text/x-python",
   "name": "python",
   "nbconvert_exporter": "python",
   "pygments_lexer": "ipython3",
   "version": "3.11.2"
  },
  "orig_nbformat": 4
 },
 "nbformat": 4,
 "nbformat_minor": 2
}
