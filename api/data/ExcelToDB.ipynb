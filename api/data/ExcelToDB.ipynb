{
 "cells": [
  {
   "cell_type": "code",
   "execution_count": null,
   "metadata": {},
   "outputs": [],
   "source": [
    "# Creem la conex amb la db MYSQL\n",
    "import mysql.connector\n",
    "\n",
    "db = mysql.connector.connect(\n",
    "    host=\"localhost\",\n",
    "    username=\"root\",\n",
    "    password=\"123321\",\n",
    "    database=\"tenfe\"\n",
    ")"
   ]
  },
  {
   "cell_type": "code",
   "execution_count": null,
   "metadata": {},
   "outputs": [],
   "source": [
    "import pandas as pd"
   ]
  },
  {
   "cell_type": "code",
   "execution_count": null,
   "metadata": {},
   "outputs": [],
   "source": [
    "# Llegim el excel i el guardem en un dataframe\n",
    "df = pd.read_excel('../data/linies/R1.xlsx')"
   ]
  },
  {
   "cell_type": "code",
   "execution_count": null,
   "metadata": {},
   "outputs": [],
   "source": [
    "# Creem un cursor per poder fer les consultes\n",
    "cursor = db.cursor()"
   ]
  },
  {
   "cell_type": "code",
   "execution_count": null,
   "metadata": {},
   "outputs": [],
   "source": [
    "# Extraiem el ID_PARADA del dataframe i el guardem en una llista\n",
    "parades = df['ID_PARADA'].unique()\n",
    "\n",
    "parades\n",
    "\n",
    "# Inserim les parades a la taula PARADES\n",
    "for parada in parades:\n",
    "    # Comprovem que no existeixi la parada\n",
    "    cursor.execute(\"SELECT * FROM parades WHERE nom = %s\", (parada,))\n",
    "    result = cursor.fetchone()\n",
    "    if result:\n",
    "        continue\n",
    "    # Inserim la parada\n",
    "    sql = \"INSERT INTO parades (nom) VALUES (%s)\"\n",
    "    val = (parada,)\n",
    "    cursor.execute(sql, val)\n",
    "\n",
    "\n",
    "# Guardem els canvis\n",
    "db.commit()"
   ]
  },
  {
   "cell_type": "code",
   "execution_count": null,
   "metadata": {},
   "outputs": [],
   "source": [
    "# Canviem del df cada nom de parada pel seu id\n",
    "for _, fila in df.iterrows():\n",
    "    sql = \"SELECT id_parada FROM parades WHERE nom = %s\"\n",
    "    val = (fila['ID_PARADA'],)\n",
    "    cursor.execute(sql, val)\n",
    "    result = cursor.fetchone()\n",
    "    # Canviem de la fila el nom de la parada pel seu id\n",
    "    try:\n",
    "        df.loc[df['ID_PARADA'] == fila['ID_PARADA'], 'ID_PARADA'] = result[0]\n",
    "    except:\n",
    "        print(\"error en la fila: \", fila)\n",
    "\n",
    "df"
   ]
  },
  {
   "cell_type": "code",
   "execution_count": null,
   "metadata": {},
   "outputs": [],
   "source": [
    "# A tota la columna HORA la passem a string i posteriorment li treiem els ultims 3 caracters\n",
    "df['HORA'] = df['HORA'].astype(str)\n",
    "df['HORA'] = df['HORA'].str[:-3]"
   ]
  },
  {
   "cell_type": "code",
   "execution_count": null,
   "metadata": {},
   "outputs": [],
   "source": [
    "# Creem la linia a la taula linies si no existeix\n",
    "for _, fila in df.iterrows():\n",
    "    # Comprovem que no existeixi la linia\n",
    "    cursor.execute(\"SELECT * FROM linies WHERE nom = %s\", (fila['LINIA'],))\n",
    "    result = cursor.fetchone()\n",
    "    if result:\n",
    "        continue\n",
    "    # Inserim la linia\n",
    "    sql = \"INSERT INTO linies (nom) VALUES (%s)\"\n",
    "    val = (fila['LINIA'],)\n",
    "    cursor.execute(sql, val)"
   ]
  },
  {
   "cell_type": "code",
   "execution_count": null,
   "metadata": {},
   "outputs": [],
   "source": [
    "# Inserim les dades de l'excel a la db\n",
    "for _, row in df.iterrows():\n",
    "    # Abans que res comprovem que no existeixi el registre\n",
    "    cursor.execute(\"SELECT * FROM horarios WHERE id_parada = %s AND hora = %s AND id_viaje = %s AND orden = %s\", (row['ID_PARADA'], row['HORA'], row['ID_VIAJE'], row['ORDEN']))\n",
    "    result = cursor.fetchone()\n",
    "    if result:\n",
    "        continue\n",
    "    # Inserim el registre\n",
    "    sql = \"INSERT INTO horarios (linia, id_parada, hora, id_viaje, orden) VALUES (%s, %s, %s, %s, %s)\"\n",
    "    val = (row['LINIA'], row['ID_PARADA'], row['HORA'], row['ID_VIAJE'], row['ORDEN'])\n",
    "    cursor.execute(sql, val)\n",
    "    \n",
    "db.commit()"
   ]
  }
 ],
 "metadata": {
  "kernelspec": {
   "display_name": "Python 3",
   "language": "python",
   "name": "python3"
  },
  "language_info": {
   "codemirror_mode": {
    "name": "ipython",
    "version": 3
   },
   "file_extension": ".py",
   "mimetype": "text/x-python",
   "name": "python",
   "nbconvert_exporter": "python",
   "pygments_lexer": "ipython3",
   "version": "3.11.2"
  },
  "orig_nbformat": 4
 },
 "nbformat": 4,
 "nbformat_minor": 2
}
